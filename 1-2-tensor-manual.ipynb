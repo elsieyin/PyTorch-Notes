{
 "cells": [
  {
   "cell_type": "markdown",
   "metadata": {},
   "source": [
    "## 张量的操作"
   ]
  },
  {
   "cell_type": "code",
   "execution_count": 1,
   "metadata": {
    "ExecuteTime": {
     "end_time": "2020-08-22T09:52:06.327808Z",
     "start_time": "2020-08-22T09:52:06.017027Z"
    }
   },
   "outputs": [
    {
     "data": {
      "text/plain": [
       "<torch._C.Generator at 0x2cbf1621af0>"
      ]
     },
     "execution_count": 1,
     "metadata": {},
     "output_type": "execute_result"
    }
   ],
   "source": [
    "import torch\n",
    "torch.manual_seed(1)"
   ]
  },
  {
   "cell_type": "markdown",
   "metadata": {},
   "source": [
    "## 张量的拼接与切分"
   ]
  },
  {
   "cell_type": "markdown",
   "metadata": {},
   "source": [
    "### torch.cat()"
   ]
  },
  {
   "cell_type": "markdown",
   "metadata": {},
   "source": [
    "- tensors 张量序列\n",
    "- dim 要拼接的维度"
   ]
  },
  {
   "cell_type": "code",
   "execution_count": 3,
   "metadata": {
    "ExecuteTime": {
     "end_time": "2020-08-22T09:53:41.629064Z",
     "start_time": "2020-08-22T09:53:41.613546Z"
    }
   },
   "outputs": [
    {
     "name": "stdout",
     "output_type": "stream",
     "text": [
      "t:  tensor([[1., 1., 1.],\n",
      "        [1., 1., 1.]])\n",
      "t_0:tensor([[1., 1., 1.],\n",
      "        [1., 1., 1.],\n",
      "        [1., 1., 1.],\n",
      "        [1., 1., 1.]]) shape:torch.Size([4, 3])\n",
      "t_1:tensor([[1., 1., 1., 1., 1., 1., 1., 1., 1.],\n",
      "        [1., 1., 1., 1., 1., 1., 1., 1., 1.]]) shape:torch.Size([2, 9])\n"
     ]
    }
   ],
   "source": [
    "t = torch.ones((2, 3))\n",
    "print(\"t: \",t)\n",
    "t_0 = torch.cat([t, t], dim=0)\n",
    "t_1 = torch.cat([t, t, t], dim=1)\n",
    "\n",
    "print(\"t_0:{} shape:{}\\nt_1:{} shape:{}\".format(\n",
    "    t_0, t_0.shape, t_1, t_1.shape))"
   ]
  },
  {
   "cell_type": "markdown",
   "metadata": {
    "ExecuteTime": {
     "end_time": "2020-08-22T10:00:12.638656Z",
     "start_time": "2020-08-22T10:00:12.630127Z"
    }
   },
   "source": [
    "### torch.stack()"
   ]
  },
  {
   "cell_type": "markdown",
   "metadata": {},
   "source": [
    "- 在新创建的维度dim上进行拼接"
   ]
  },
  {
   "cell_type": "code",
   "execution_count": 7,
   "metadata": {
    "ExecuteTime": {
     "end_time": "2020-08-22T10:02:57.844994Z",
     "start_time": "2020-08-22T10:02:57.829476Z"
    }
   },
   "outputs": [
    {
     "name": "stdout",
     "output_type": "stream",
     "text": [
      "\n",
      "t_stack:tensor([[[1., 1., 1.],\n",
      "         [1., 1., 1.]],\n",
      "\n",
      "        [[1., 1., 1.],\n",
      "         [1., 1., 1.]],\n",
      "\n",
      "        [[1., 1., 1.],\n",
      "         [1., 1., 1.]]])\n",
      " shape:torch.Size([3, 2, 3])\n"
     ]
    }
   ],
   "source": [
    "# dim=0 (2,3)往后移\n",
    "t = torch.ones((2, 3))\n",
    "t_stack = torch.stack([t, t, t], dim=0)\n",
    "\n",
    "print(\"\\nt_stack:{}\\n shape:{}\".format(t_stack, t_stack.shape))"
   ]
  },
  {
   "cell_type": "markdown",
   "metadata": {},
   "source": [
    "### torch.chunk()"
   ]
  },
  {
   "cell_type": "markdown",
   "metadata": {},
   "source": [
    "- chunks： 要切分的份数\n",
    "- dim: 要切分的维度"
   ]
  },
  {
   "cell_type": "markdown",
   "metadata": {},
   "source": [
    "将张量按维度dim进行平均切分  \n",
    "返回值: 张量列表  \n",
    "若不能整除，最后一份张量小于其他张量"
   ]
  },
  {
   "cell_type": "code",
   "execution_count": 9,
   "metadata": {
    "ExecuteTime": {
     "end_time": "2020-08-22T10:07:05.464954Z",
     "start_time": "2020-08-22T10:07:05.451942Z"
    }
   },
   "outputs": [
    {
     "name": "stdout",
     "output_type": "stream",
     "text": [
      "第1个张量：tensor([[1., 1., 1.],\n",
      "        [1., 1., 1.]]), shape is torch.Size([2, 3])\n",
      "第2个张量：tensor([[1., 1., 1.],\n",
      "        [1., 1., 1.]]), shape is torch.Size([2, 3])\n",
      "第3个张量：tensor([[1.],\n",
      "        [1.]]), shape is torch.Size([2, 1])\n"
     ]
    }
   ],
   "source": [
    "a = torch.ones((2, 7))  # 7\n",
    "list_of_tensors = torch.chunk(a, dim=1, chunks=3)   # 3,3,1\n",
    "\n",
    "for idx, t in enumerate(list_of_tensors):\n",
    "    print(\"第{}个张量：{}, shape is {}\".format(idx+1, t, t.shape))"
   ]
  },
  {
   "cell_type": "markdown",
   "metadata": {},
   "source": [
    "### torch.split"
   ]
  },
  {
   "cell_type": "code",
   "execution_count": 12,
   "metadata": {
    "ExecuteTime": {
     "end_time": "2020-08-22T10:09:38.797772Z",
     "start_time": "2020-08-22T10:09:38.780254Z"
    }
   },
   "outputs": [
    {
     "name": "stdout",
     "output_type": "stream",
     "text": [
      "第1个张量：tensor([[1., 1.],\n",
      "        [1., 1.]]), shape is torch.Size([2, 2])\n",
      "第2个张量：tensor([[1.],\n",
      "        [1.]]), shape is torch.Size([2, 1])\n",
      "第3个张量：tensor([[1., 1.],\n",
      "        [1., 1.]]), shape is torch.Size([2, 2])\n"
     ]
    }
   ],
   "source": [
    "t = torch.ones((2, 5))\n",
    "\n",
    "list_of_tensors = torch.split(t, [2, 1, 2], dim=1)  \n",
    "    # [2, 1, 1]报错， 2+1+2=5，维度需一致\n",
    "for idx, t in enumerate(list_of_tensors):\n",
    "    print(\"第{}个张量：{}, shape is {}\".format(idx+1, t, t.shape))"
   ]
  },
  {
   "cell_type": "markdown",
   "metadata": {},
   "source": [
    "### torch.index_select"
   ]
  },
  {
   "cell_type": "code",
   "execution_count": 4,
   "metadata": {
    "ExecuteTime": {
     "end_time": "2020-08-22T10:12:21.979357Z",
     "start_time": "2020-08-22T10:12:21.972257Z"
    }
   },
   "outputs": [
    {
     "name": "stdout",
     "output_type": "stream",
     "text": [
      "t:\n",
      "tensor([[2, 7, 6],\n",
      "        [6, 8, 7],\n",
      "        [6, 0, 7]])\n",
      "t_select:\n",
      "tensor([[2, 7, 6],\n",
      "        [6, 0, 7]])\n"
     ]
    }
   ],
   "source": [
    "t = torch.randint(0, 9, size=(3, 3))\n",
    "idx = torch.tensor([0, 2], dtype=torch.long)# float, idx:  tensor([0, 2])\n",
    "\n",
    "t_select = torch.index_select(t, dim=0, index=idx) #dim=0按行，选idx[0,2]行，再拼接\n",
    "print(\"t:\\n{}\\nt_select:\\n{}\".format(t, t_select))"
   ]
  },
  {
   "cell_type": "markdown",
   "metadata": {
    "ExecuteTime": {
     "end_time": "2020-08-22T10:17:09.390968Z",
     "start_time": "2020-08-22T10:17:09.386966Z"
    }
   },
   "source": [
    "### torch.masked_select"
   ]
  },
  {
   "cell_type": "markdown",
   "metadata": {},
   "source": [
    "- mask与input同形状的布尔类型张量"
   ]
  },
  {
   "cell_type": "code",
   "execution_count": 17,
   "metadata": {
    "ExecuteTime": {
     "end_time": "2020-08-22T10:17:15.700793Z",
     "start_time": "2020-08-22T10:17:15.683274Z"
    }
   },
   "outputs": [
    {
     "name": "stdout",
     "output_type": "stream",
     "text": [
      "t:\n",
      "tensor([[4, 7, 5],\n",
      "        [0, 7, 1],\n",
      "        [4, 6, 1]])\n",
      "mask:\n",
      "tensor([[ True, False,  True],\n",
      "        [ True, False,  True],\n",
      "        [ True, False,  True]])\n",
      "t_select:\n",
      "tensor([4, 5, 0, 1, 4, 1]) \n"
     ]
    }
   ],
   "source": [
    "t = torch.randint(0, 9, size=(3, 3))\n",
    "mask = t.le(5)  # ge is mean greater than or equal/   gt: greater than  le  lt\n",
    "t_select = torch.masked_select(t, mask)\n",
    "print(\"t:\\n{}\\nmask:\\n{}\\nt_select:\\n{} \".format(t, mask, t_select))"
   ]
  },
  {
   "cell_type": "markdown",
   "metadata": {},
   "source": [
    "## 张量变换"
   ]
  },
  {
   "cell_type": "markdown",
   "metadata": {},
   "source": [
    "### torch.reshape() ：变换张量形状"
   ]
  },
  {
   "cell_type": "markdown",
   "metadata": {},
   "source": [
    "当张量在内存中是连续的，新张量与input共享数据内存"
   ]
  },
  {
   "cell_type": "code",
   "execution_count": 19,
   "metadata": {
    "ExecuteTime": {
     "end_time": "2020-08-22T10:20:44.835320Z",
     "start_time": "2020-08-22T10:20:44.827810Z"
    }
   },
   "outputs": [
    {
     "name": "stdout",
     "output_type": "stream",
     "text": [
      "t:tensor([5, 6, 3, 1, 0, 2, 4, 7])\n",
      "t_reshape:\n",
      "tensor([[[5, 6],\n",
      "         [3, 1]],\n",
      "\n",
      "        [[0, 2],\n",
      "         [4, 7]]])\n",
      "t:tensor([1024,    6,    3,    1,    0,    2,    4,    7])\n",
      "t_reshape:\n",
      "tensor([[[1024,    6],\n",
      "         [   3,    1]],\n",
      "\n",
      "        [[   0,    2],\n",
      "         [   4,    7]]])\n",
      "t.data 内存地址:1860703597016\n",
      "t_reshape.data 内存地址:1860703597016\n"
     ]
    }
   ],
   "source": [
    "t = torch.randperm(8)\n",
    "t_reshape = torch.reshape(t, (-1, 2, 2))    # -1\n",
    "print(\"t:{}\\nt_reshape:\\n{}\".format(t, t_reshape))\n",
    "\n",
    "t[0] = 1024\n",
    "print(\"t:{}\\nt_reshape:\\n{}\".format(t, t_reshape))\n",
    "print(\"t.data 内存地址:{}\".format(id(t.data)))\n",
    "print(\"t_reshape.data 内存地址:{}\".format(id(t_reshape.data)))"
   ]
  },
  {
   "cell_type": "markdown",
   "metadata": {},
   "source": [
    "### torch.transpose() :  变换张量的两个维度"
   ]
  },
  {
   "cell_type": "markdown",
   "metadata": {},
   "source": [
    "这里其实略复杂，见[其他笔记](https://blog.csdn.net/u012762410/article/details/78912667)"
   ]
  },
  {
   "cell_type": "code",
   "execution_count": 20,
   "metadata": {
    "ExecuteTime": {
     "end_time": "2020-08-22T10:21:41.105261Z",
     "start_time": "2020-08-22T10:21:41.082738Z"
    }
   },
   "outputs": [
    {
     "name": "stdout",
     "output_type": "stream",
     "text": [
      "t shape:torch.Size([2, 3, 4])\n",
      "t_transpose shape: torch.Size([2, 4, 3])\n"
     ]
    }
   ],
   "source": [
    "t = torch.rand((2, 3, 4))\n",
    "t_transpose = torch.transpose(t, dim0=1, dim1=2)    # c*h*w     h*w*c\n",
    "print(\"t shape:{}\\nt_transpose shape: {}\".format(t.shape, t_transpose.shape))"
   ]
  },
  {
   "cell_type": "markdown",
   "metadata": {},
   "source": [
    "### torch.t()"
   ]
  },
  {
   "cell_type": "markdown",
   "metadata": {},
   "source": [
    "### torch.squeeze() : 压缩长度为1的维度(轴)"
   ]
  },
  {
   "cell_type": "markdown",
   "metadata": {},
   "source": [
    "dim:   \n",
    "- None ： 移除所有长度为1的轴;\n",
    "- 指定维度: 当且仅当该轴长度为1时，可以被移除;"
   ]
  },
  {
   "cell_type": "code",
   "execution_count": 21,
   "metadata": {
    "ExecuteTime": {
     "end_time": "2020-08-22T10:23:45.780250Z",
     "start_time": "2020-08-22T10:23:45.761233Z"
    }
   },
   "outputs": [
    {
     "name": "stdout",
     "output_type": "stream",
     "text": [
      "torch.Size([1, 2, 3, 1])\n",
      "torch.Size([2, 3])\n",
      "torch.Size([2, 3, 1])\n",
      "torch.Size([1, 2, 3, 1])\n"
     ]
    }
   ],
   "source": [
    "t = torch.rand((1, 2, 3, 1))\n",
    "t_sq = torch.squeeze(t)\n",
    "t_0 = torch.squeeze(t, dim=0)\n",
    "t_1 = torch.squeeze(t, dim=1)\n",
    "print(t.shape)\n",
    "print(t_sq.shape)\n",
    "print(t_0.shape)\n",
    "print(t_1.shape)"
   ]
  },
  {
   "cell_type": "markdown",
   "metadata": {},
   "source": [
    "## 张量的运算"
   ]
  },
  {
   "cell_type": "code",
   "execution_count": 22,
   "metadata": {
    "ExecuteTime": {
     "end_time": "2020-08-22T10:25:54.085404Z",
     "start_time": "2020-08-22T10:25:54.067105Z"
    }
   },
   "outputs": [
    {
     "name": "stdout",
     "output_type": "stream",
     "text": [
      "t_0:\n",
      "tensor([[-1.3613,  0.2182, -1.3080],\n",
      "        [ 0.2517,  1.8713, -0.3401],\n",
      "        [ 0.9449,  0.4791,  0.7199]])\n",
      "t_1:\n",
      "tensor([[1., 1., 1.],\n",
      "        [1., 1., 1.],\n",
      "        [1., 1., 1.]])\n",
      "t_add_10:\n",
      "tensor([[ 8.6387, 10.2182,  8.6920],\n",
      "        [10.2517, 11.8713,  9.6599],\n",
      "        [10.9449, 10.4791, 10.7199]])\n"
     ]
    },
    {
     "name": "stderr",
     "output_type": "stream",
     "text": [
      "..\\torch\\csrc\\utils\\python_arg_parser.cpp:756: UserWarning: This overload of add is deprecated:\n",
      "\tadd(Tensor input, Number alpha, Tensor other, *, Tensor out)\n",
      "Consider using one of the following signatures instead:\n",
      "\tadd(Tensor input, Tensor other, *, Number alpha, Tensor out)\n"
     ]
    }
   ],
   "source": [
    "t_0 = torch.randn((3, 3))\n",
    "t_1 = torch.ones_like(t_0)\n",
    "t_add = torch.add(t_0, 10, t_1)\n",
    "\n",
    "print(\"t_0:\\n{}\\nt_1:\\n{}\\nt_add_10:\\n{}\".format(t_0, t_1, t_add))"
   ]
  },
  {
   "cell_type": "code",
   "execution_count": null,
   "metadata": {},
   "outputs": [],
   "source": []
  },
  {
   "cell_type": "code",
   "execution_count": 7,
   "metadata": {},
   "outputs": [
    {
     "data": {
      "text/plain": [
       "array([[0, 1],\n",
       "       [2, 3]])"
      ]
     },
     "execution_count": 7,
     "metadata": {},
     "output_type": "execute_result"
    }
   ],
   "source": [
    "x = np.arange(4).reshape((2,2))\n",
    "x"
   ]
  },
  {
   "cell_type": "code",
   "execution_count": 9,
   "metadata": {},
   "outputs": [
    {
     "data": {
      "text/plain": [
       "3"
      ]
     },
     "execution_count": 9,
     "metadata": {},
     "output_type": "execute_result"
    }
   ],
   "source": [
    "x[1][1]"
   ]
  }
 ],
 "metadata": {
  "kernelspec": {
   "display_name": "kaggle",
   "language": "python",
   "name": "kaggle"
  },
  "language_info": {
   "codemirror_mode": {
    "name": "ipython",
    "version": 3
   },
   "file_extension": ".py",
   "mimetype": "text/x-python",
   "name": "python",
   "nbconvert_exporter": "python",
   "pygments_lexer": "ipython3",
   "version": "3.7.7"
  },
  "toc": {
   "base_numbering": 1,
   "nav_menu": {},
   "number_sections": true,
   "sideBar": true,
   "skip_h1_title": false,
   "title_cell": "Table of Contents",
   "title_sidebar": "Contents",
   "toc_cell": false,
   "toc_position": {},
   "toc_section_display": true,
   "toc_window_display": true
  },
  "varInspector": {
   "cols": {
    "lenName": 16,
    "lenType": 16,
    "lenVar": 40
   },
   "kernels_config": {
    "python": {
     "delete_cmd_postfix": "",
     "delete_cmd_prefix": "del ",
     "library": "var_list.py",
     "varRefreshCmd": "print(var_dic_list())"
    },
    "r": {
     "delete_cmd_postfix": ") ",
     "delete_cmd_prefix": "rm(",
     "library": "var_list.r",
     "varRefreshCmd": "cat(var_dic_list()) "
    }
   },
   "types_to_exclude": [
    "module",
    "function",
    "builtin_function_or_method",
    "instance",
    "_Feature"
   ],
   "window_display": false
  }
 },
 "nbformat": 4,
 "nbformat_minor": 4
}
